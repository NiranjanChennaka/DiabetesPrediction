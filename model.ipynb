{
 "cells": [
  {
   "cell_type": "code",
   "execution_count": 2,
   "id": "21736900",
   "metadata": {},
   "outputs": [],
   "source": [
    "import numpy as np\n",
    "import pandas as pd\n",
    "import pickle\n",
    "from sklearn.model_selection import train_test_split\n",
    "from sklearn import metrics"
   ]
  },
  {
   "cell_type": "code",
   "execution_count": 5,
   "id": "c6681cc5",
   "metadata": {},
   "outputs": [],
   "source": [
    "dp1 = pd.read_csv('diab.csv')\n",
    "X=dp1.iloc[:,:-1].values\n",
    "y=dp1.iloc[:,-1].values\n",
    "from sklearn.preprocessing import StandardScaler\n",
    "scaler=StandardScaler()\n",
    "scaler.fit(X)\n",
    "SSX=scaler.transform(X)\n",
    "X_train,X_test,y_train,y_test=train_test_split(dp1.drop('Outcome',axis=1),\n",
    "                                              dp1['Outcome'],test_size=0.2,random_state=0)\n"
   ]
  },
  {
   "cell_type": "code",
   "execution_count": 9,
   "id": "028de9c6",
   "metadata": {},
   "outputs": [
    {
     "name": "stdout",
     "output_type": "stream",
     "text": [
      "Accuracy:  80.51948051948052\n"
     ]
    }
   ],
   "source": [
    "from sklearn.linear_model import LogisticRegression\n",
    "#logmodel=LogisticRegression(solver='lbfgs', max_iter=300)\n",
    "\n",
    "logmodel=LogisticRegression(solver='lbfgs', max_iter=300)\n",
    "logmodel.fit(X_train,y_train)\n",
    "pickle.dump(logmodel, open('mymodel.pkl','wb'))\n",
    "model = pickle.load(open('mymodel.pkl','rb'))\n",
    "accuracy = logmodel.score(X_test, y_test)\n",
    "predictions=logmodel.predict(X_test)\n",
    "print('Accuracy: ',accuracy*100)\n",
    "\n"
   ]
  },
  {
   "cell_type": "code",
   "execution_count": null,
   "id": "30fceefa",
   "metadata": {},
   "outputs": [],
   "source": []
  }
 ],
 "metadata": {
  "kernelspec": {
   "display_name": "Python 3",
   "language": "python",
   "name": "python3"
  },
  "language_info": {
   "codemirror_mode": {
    "name": "ipython",
    "version": 3
   },
   "file_extension": ".py",
   "mimetype": "text/x-python",
   "name": "python",
   "nbconvert_exporter": "python",
   "pygments_lexer": "ipython3",
   "version": "3.9.5"
  }
 },
 "nbformat": 4,
 "nbformat_minor": 5
}
