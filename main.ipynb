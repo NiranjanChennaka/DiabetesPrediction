{
 "cells": [
  {
   "cell_type": "code",
   "execution_count": 1,
   "id": "1f967ea8",
   "metadata": {},
   "outputs": [],
   "source": [
    "import numpy\n",
    "import os\n",
    "from PIL import Image\n",
    "import numpy as np      # Importing the libraries\n",
    "import matplotlib.pyplot as plt\n",
    "import pickle\n",
    "from sklearn.svm import SVC\n",
    "from sklearn import metrics\n",
    "from flask import Flask, render_template, request\n",
    "from IPython.display import Image\n",
    "import pandas as pd\n",
    "app = Flask(__name__)\n"
   ]
  },
  {
   "cell_type": "code",
   "execution_count": null,
   "id": "421b541b",
   "metadata": {},
   "outputs": [
    {
     "name": "stdout",
     "output_type": "stream",
     "text": [
      " * Serving Flask app \"__main__\" (lazy loading)\n",
      " * Environment: production\n",
      "   WARNING: This is a development server. Do not use it in a production deployment.\n",
      "   Use a production WSGI server instead.\n",
      " * Debug mode: on\n"
     ]
    },
    {
     "name": "stderr",
     "output_type": "stream",
     "text": [
      " * Running on http://127.0.0.1:4555/ (Press CTRL+C to quit)\n",
      "127.0.0.1 - - [08/Jun/2021 17:49:57] \"\u001b[37mGET / HTTP/1.1\u001b[0m\" 200 -\n",
      "127.0.0.1 - - [08/Jun/2021 17:49:58] \"\u001b[36mGET /static/pulse.jpg HTTP/1.1\u001b[0m\" 304 -\n",
      "127.0.0.1 - - [08/Jun/2021 17:49:59] \"\u001b[33mGET /favicon.ico HTTP/1.1\u001b[0m\" 404 -\n",
      "127.0.0.1 - - [08/Jun/2021 17:50:01] \"\u001b[37mPOST /a HTTP/1.1\u001b[0m\" 200 -\n",
      "127.0.0.1 - - [08/Jun/2021 17:50:22] \"\u001b[37mPOST /upload HTTP/1.1\u001b[0m\" 200 -\n"
     ]
    },
    {
     "name": "stdout",
     "output_type": "stream",
     "text": [
      "[[ 0.   6.  85.  72.  35.   0.  33.6  0.6 33. ]]\n",
      "predicted = \"You don't have Diabetes\"\n"
     ]
    },
    {
     "name": "stderr",
     "output_type": "stream",
     "text": [
      "127.0.0.1 - - [08/Jun/2021 17:57:46] \"\u001b[37mPOST /a HTTP/1.1\u001b[0m\" 200 -\n"
     ]
    }
   ],
   "source": [
    "p=%pwd\n",
    "APP_ROOT = os.path.dirname(os.path.abspath(p))\n",
    "model = pickle.load(open('mymodel.pkl','rb'))\n",
    "@app.route('/')\n",
    "\n",
    "def index():\n",
    "    return render_template(\"image.html\")\n",
    "\n",
    "@app.route('/a',methods=['GET','POST'])\n",
    "\n",
    "def a():\n",
    "    return render_template(\"form.html\")\n",
    "\n",
    "@app.route('/upload',methods=['GET','POST'])\n",
    "def upload():\n",
    "    pregnencies=request.form['pregnencies']\n",
    "    glucose=request.form['glucose']\n",
    "    blood_pressure=request.form['blood_pressure']\n",
    "    skin_thickness=request.form['skin_thickness']\n",
    "    insulin=request.form['insulin']\n",
    "    bmi=request.form['bmi']\n",
    "    dpf=request.form['dpf']\n",
    "    age=request.form['age']\n",
    "    import numpy as np\n",
    "    dp1 = pd.read_csv('diab.csv')\n",
    "    X=dp1.iloc[:1,:-1].values\n",
    "    n=[int(pregnencies),float(glucose),float(blood_pressure),float(skin_thickness),float(insulin),float(bmi),float(dpf),int(age)]\n",
    "    arr=numpy.array(n)\n",
    "    df = pd.DataFrame(columns = [1,2,3,4,5,6,7,8,9])\n",
    "    data_to_append = {}\n",
    "    for i in range(len(df.columns)-1):\n",
    "        data_to_append[df.columns[i]] = arr[i]\n",
    "    data_to_append[df.columns[i+1]]=1\n",
    "    df = df.append(data_to_append, ignore_index = True)\n",
    "    df.to_csv('data.csv')\n",
    "    c=pd.read_csv('data.csv')\n",
    "    X=c.iloc[:1,:-1].values\n",
    "    fin=model.predict(X)\n",
    "    print(X)\n",
    "    s=\" \"\n",
    "    if(fin==1):\n",
    "        s=\"You have Diabetes,Please Consult the Doctor \"\n",
    "    else:\n",
    "        s=\"You don't have Diabetes\"\n",
    "    k=prediction_text='predicted = \"{}\"'.format(s)\n",
    "    print(k)\n",
    "    return render_template(\"upload.html\",prediction_text='{}'.format(s))\n",
    "    \n",
    "\n",
    "if __name__ == \"__main__\":\n",
    "    app.run(port=4555, debug=True,use_reloader=False)"
   ]
  },
  {
   "cell_type": "code",
   "execution_count": null,
   "id": "87f47a67",
   "metadata": {},
   "outputs": [],
   "source": []
  },
  {
   "cell_type": "code",
   "execution_count": null,
   "id": "c5bf6551",
   "metadata": {},
   "outputs": [],
   "source": []
  }
 ],
 "metadata": {
  "kernelspec": {
   "display_name": "Python 3",
   "language": "python",
   "name": "python3"
  },
  "language_info": {
   "codemirror_mode": {
    "name": "ipython",
    "version": 3
   },
   "file_extension": ".py",
   "mimetype": "text/x-python",
   "name": "python",
   "nbconvert_exporter": "python",
   "pygments_lexer": "ipython3",
   "version": "3.9.5"
  }
 },
 "nbformat": 4,
 "nbformat_minor": 5
}
